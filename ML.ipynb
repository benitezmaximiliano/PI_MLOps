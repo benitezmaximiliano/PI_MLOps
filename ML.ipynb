{
 "cells": [
  {
   "cell_type": "code",
   "execution_count": 1,
   "metadata": {},
   "outputs": [],
   "source": [
    "import pandas as pd\n",
    "from sklearn.metrics.pairwise import cosine_similarity\n",
    "from sklearn.feature_extraction.text import TfidfVectorizer"
   ]
  },
  {
   "cell_type": "code",
   "execution_count": 3,
   "metadata": {},
   "outputs": [],
   "source": [
    "# load data and drrop columns\n",
    "df_a = pd.read_parquet('gzip/dfAPI.parquet')\n",
    "df_b= pd.read_parquet('gzip/dfAPI.parquet')\n",
    "df_a.drop(['Genres', 'Sentiment_Score', 'Playtime_Forever', 'Recommend', 'Year'], axis=1, inplace=True)\n",
    "df_b.drop(['Genres', 'Sentiment_Score', 'Playtime_Forever', 'Recommend', 'Year'], axis=1, inplace=True)\n",
    "#Cambiamos el tipo de variable\n",
    "df_a['Item_Id'] = df_a['Item_Id'].astype(str)\n",
    "df_a['Posted'] = df_a['Posted'].astype(str)\n",
    "\n",
    "df_a = df_a.drop_duplicates(subset='Item_Id', keep='first')\n",
    "df_b = df_b.drop_duplicates(subset='Item_Id', keep='first')\n",
    "\n",
    "df_a['features'] = df_a[['Title', 'Posted', 'Developer']].apply(lambda x: ', '.join(x), axis=1)\n",
    "df_a.drop(['Title','Posted','Developer'],axis=1,inplace=True)\n",
    "# save csv\n",
    "df_a.to_csv('csv/gsteam.csv', index=False)\n",
    "df_b.to_csv('csv/gid.csv', index=False)"
   ]
  }
 ],
 "metadata": {
  "kernelspec": {
   "display_name": ".venv",
   "language": "python",
   "name": "python3"
  },
  "language_info": {
   "codemirror_mode": {
    "name": "ipython",
    "version": 3
   },
   "file_extension": ".py",
   "mimetype": "text/x-python",
   "name": "python",
   "nbconvert_exporter": "python",
   "pygments_lexer": "ipython3",
   "version": "3.11.6"
  }
 },
 "nbformat": 4,
 "nbformat_minor": 2
}
